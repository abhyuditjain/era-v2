{
  "cells": [
    {
      "cell_type": "code",
      "execution_count": 1,
      "metadata": {
        "colab": {
          "base_uri": "https://localhost:8080/"
        },
        "id": "WiI0NgItZwRq",
        "outputId": "22aa099b-ecd5-430a-c154-a35f2d6a335b"
      },
      "outputs": [
        {
          "name": "stdout",
          "output_type": "stream",
          "text": [
            "Looking in indexes: https://pypi.org/simple, https://us-python.pkg.dev/colab-wheels/public/simple/\n",
            "Collecting torchinfo\n",
            "  Downloading torchinfo-1.8.0-py3-none-any.whl (23 kB)\n",
            "Installing collected packages: torchinfo\n",
            "Successfully installed torchinfo-1.8.0\n"
          ]
        }
      ],
      "source": [
        "!pip install torchinfo"
      ]
    },
    {
      "cell_type": "code",
      "execution_count": 2,
      "metadata": {
        "id": "Rz3nR08cZKFA"
      },
      "outputs": [],
      "source": [
        "import torch\n",
        "import torch.nn as nn\n",
        "import torch.nn.functional as F\n",
        "import torch.optim as optim\n",
        "import torch.utils.data as data\n",
        "from torchvision import datasets, transforms\n",
        "from torchinfo import summary\n",
        "from tqdm import tqdm"
      ]
    },
    {
      "cell_type": "code",
      "execution_count": 3,
      "metadata": {
        "id": "Hvon41g2ZiYz"
      },
      "outputs": [],
      "source": [
        "BATCH_SIZE = 128"
      ]
    },
    {
      "cell_type": "code",
      "execution_count": 4,
      "metadata": {
        "colab": {
          "base_uri": "https://localhost:8080/"
        },
        "id": "itNb2ViMZjyZ",
        "outputId": "56402326-61a8-4280-b232-e037173cefce"
      },
      "outputs": [
        {
          "name": "stdout",
          "output_type": "stream",
          "text": [
            "Use CUDA? True\n"
          ]
        }
      ],
      "source": [
        "use_cuda = torch.cuda.is_available()\n",
        "device = torch.device(\"cuda\" if use_cuda else \"cpu\")\n",
        "\n",
        "print(f\"Use CUDA? {use_cuda}\")"
      ]
    },
    {
      "cell_type": "code",
      "execution_count": 5,
      "metadata": {
        "id": "6gVVXm2_ZlNI"
      },
      "outputs": [],
      "source": [
        "train_transforms = transforms.Compose(\n",
        "    [transforms.ToTensor(), transforms.Normalize((0.1307,), (0.3081,))]\n",
        ")\n",
        "\n",
        "test_transforms = transforms.Compose(\n",
        "    [transforms.ToTensor(), transforms.Normalize((0.1307,), (0.3081,))]\n",
        ")"
      ]
    },
    {
      "cell_type": "code",
      "execution_count": 6,
      "metadata": {
        "colab": {
          "base_uri": "https://localhost:8080/"
        },
        "id": "shWl9Gl7ZmXx",
        "outputId": "2dfb3ae9-db15-4101-9bb1-2ad78b3b0337"
      },
      "outputs": [
        {
          "name": "stdout",
          "output_type": "stream",
          "text": [
            "Downloading http://yann.lecun.com/exdb/mnist/train-images-idx3-ubyte.gz\n",
            "Downloading http://yann.lecun.com/exdb/mnist/train-images-idx3-ubyte.gz to ../data/MNIST/raw/train-images-idx3-ubyte.gz\n"
          ]
        },
        {
          "name": "stderr",
          "output_type": "stream",
          "text": [
            "100%|██████████| 9912422/9912422 [00:00<00:00, 107764653.91it/s]\n"
          ]
        },
        {
          "name": "stdout",
          "output_type": "stream",
          "text": [
            "Extracting ../data/MNIST/raw/train-images-idx3-ubyte.gz to ../data/MNIST/raw\n",
            "\n",
            "Downloading http://yann.lecun.com/exdb/mnist/train-labels-idx1-ubyte.gz\n",
            "Downloading http://yann.lecun.com/exdb/mnist/train-labels-idx1-ubyte.gz to ../data/MNIST/raw/train-labels-idx1-ubyte.gz\n"
          ]
        },
        {
          "name": "stderr",
          "output_type": "stream",
          "text": [
            "100%|██████████| 28881/28881 [00:00<00:00, 21889355.59it/s]\n"
          ]
        },
        {
          "name": "stdout",
          "output_type": "stream",
          "text": [
            "Extracting ../data/MNIST/raw/train-labels-idx1-ubyte.gz to ../data/MNIST/raw\n",
            "\n",
            "Downloading http://yann.lecun.com/exdb/mnist/t10k-images-idx3-ubyte.gz\n",
            "Downloading http://yann.lecun.com/exdb/mnist/t10k-images-idx3-ubyte.gz to ../data/MNIST/raw/t10k-images-idx3-ubyte.gz\n"
          ]
        },
        {
          "name": "stderr",
          "output_type": "stream",
          "text": [
            "100%|██████████| 1648877/1648877 [00:00<00:00, 25578507.93it/s]\n"
          ]
        },
        {
          "name": "stdout",
          "output_type": "stream",
          "text": [
            "Extracting ../data/MNIST/raw/t10k-images-idx3-ubyte.gz to ../data/MNIST/raw\n",
            "\n",
            "Downloading http://yann.lecun.com/exdb/mnist/t10k-labels-idx1-ubyte.gz\n",
            "Downloading http://yann.lecun.com/exdb/mnist/t10k-labels-idx1-ubyte.gz to ../data/MNIST/raw/t10k-labels-idx1-ubyte.gz\n"
          ]
        },
        {
          "name": "stderr",
          "output_type": "stream",
          "text": [
            "100%|██████████| 4542/4542 [00:00<00:00, 17240297.53it/s]\n"
          ]
        },
        {
          "name": "stdout",
          "output_type": "stream",
          "text": [
            "Extracting ../data/MNIST/raw/t10k-labels-idx1-ubyte.gz to ../data/MNIST/raw\n",
            "\n"
          ]
        }
      ],
      "source": [
        "train_dataset = datasets.MNIST(\n",
        "    \"../data\", train=True, download=True, transform=train_transforms\n",
        ")\n",
        "\n",
        "test_dataset = datasets.MNIST(\n",
        "    \"../data\", train=False, download=True, transform=test_transforms\n",
        ")"
      ]
    },
    {
      "cell_type": "code",
      "execution_count": 7,
      "metadata": {
        "id": "y4IFC4eIZnvW"
      },
      "outputs": [],
      "source": [
        "torch.manual_seed(1)\n",
        "\n",
        "kwargs = {\"num_workers\": 1, \"pin_memory\": True} if use_cuda else {}\n",
        "\n",
        "train_loader = data.DataLoader(\n",
        "    train_dataset, batch_size=BATCH_SIZE, shuffle=True, **kwargs\n",
        ")\n",
        "\n",
        "test_loader = data.DataLoader(\n",
        "    test_dataset, batch_size=BATCH_SIZE, shuffle=True, **kwargs\n",
        ")"
      ]
    },
    {
      "cell_type": "code",
      "execution_count": 8,
      "metadata": {
        "id": "JTg_GOEiZozt"
      },
      "outputs": [],
      "source": [
        "def train(model, device, train_loader, optimizer, epoch):\n",
        "    model.train()\n",
        "    pbar = tqdm(train_loader)\n",
        "    for batch_idx, (data, target) in enumerate(pbar):\n",
        "        data, target = data.to(device), target.to(device)\n",
        "        optimizer.zero_grad()\n",
        "        output = model(data)\n",
        "        loss = F.nll_loss(output, target)\n",
        "        loss.backward()\n",
        "        optimizer.step()\n",
        "        pbar.set_description(\n",
        "            desc=f\"Epoch={epoch} loss={loss.item()} batch_id={batch_idx}\"\n",
        "        )\n",
        "\n",
        "\n",
        "def test(model, device, test_loader):\n",
        "    model.eval()\n",
        "    test_loss = 0\n",
        "    correct = 0\n",
        "    with torch.no_grad():\n",
        "        for data, target in test_loader:\n",
        "            data, target = data.to(device), target.to(device)\n",
        "            output = model(data)\n",
        "            test_loss += F.nll_loss(\n",
        "                output, target, reduction=\"sum\"\n",
        "            ).item()  # sum up batch loss\n",
        "            pred = output.argmax(\n",
        "                dim=1, keepdim=True\n",
        "            )  # get the index of the max log-probability\n",
        "            correct += pred.eq(target.view_as(pred)).sum().item()\n",
        "\n",
        "    test_loss /= len(test_loader.dataset)\n",
        "\n",
        "    print(\n",
        "        \"\\nTest set: Average loss: {:.4f}, Accuracy: {}/{} ({:.2f}%)\\n\".format(\n",
        "            test_loss,\n",
        "            correct,\n",
        "            len(test_loader.dataset),\n",
        "            100.0 * correct / len(test_loader.dataset),\n",
        "        )\n",
        "    )"
      ]
    },
    {
      "cell_type": "code",
      "execution_count": 9,
      "metadata": {
        "id": "SrWm0VtoZqNT"
      },
      "outputs": [],
      "source": [
        "class Net(nn.Module):\n",
        "    def __init__(self):\n",
        "        super(Net, self).__init__()\n",
        "        self.drop1 = nn.Dropout(0.1)\n",
        "        self.drop2 = nn.Dropout(0.1)\n",
        "        self.batch_norm1 = nn.BatchNorm2d(32)\n",
        "        self.batch_norm2 = nn.BatchNorm2d(16)\n",
        "        self.batch_norm3 = nn.BatchNorm2d(16)\n",
        "        self.batch_norm4 = nn.BatchNorm2d(64)\n",
        "        self.gap = nn.AdaptiveAvgPool2d(1)\n",
        "\n",
        "        self.conv1 = nn.Conv2d(in_channels=1, out_channels=32, kernel_size=5)\n",
        "        self.conv2 = nn.Conv2d(in_channels=32, out_channels=16, kernel_size=3)\n",
        "        self.conv3 = nn.Conv2d(in_channels=16, out_channels=16, kernel_size=3)\n",
        "        self.conv4 = nn.Conv2d(in_channels=16, out_channels=64, kernel_size=3)\n",
        "\n",
        "        self.fc = nn.Linear(in_features=1 * 1 * 64, out_features=10)\n",
        "\n",
        "    def forward(self, x):\n",
        "        \"\"\"\n",
        "        ----------------------------------------------------------------------\n",
        "        | Layer   | rf_in | n_in | j_in | s | p | k | rf_out | n_out | j_out |\n",
        "        |---------|-------|------|------|---|---|---|--------|-------|-------|\n",
        "        | conv1   | 1     | 28   | 1    | 1 | 0 | 5 | 5      | 24    | 1     |\n",
        "        | relu    | -     | -    | -    | - | - | - | -      | -     | -     |\n",
        "        | bn      | -     | -    | -    | - | - | - | -      | -     | -     |\n",
        "        | conv2   | 5     | 24   | 1    | 1 | 0 | 3 | 7      | 22    | 1     |\n",
        "        | relu    | -     | -    | -    | - | - | - | -      | -     | -     |\n",
        "        | bn      | -     | -    | -    | - | - | - | -      | -     | -     |\n",
        "        | maxpool | 7     | 22   | 1    | 2 | 0 | 2 | 8      | 11    | 2     |\n",
        "        | drop    | -     | -    | -    | - | - | - | -      | -     | -     |\n",
        "        | conv3   | 8     | 11   | 2    | 1 | 0 | 3 | 12     | 9     | 2     |\n",
        "        | relu    | -     | -    | -    | - | - | - | -      | -     | -     |\n",
        "        | bn      | -     | -    | -    | - | - | - | -      | -     | -     |\n",
        "        | conv4   | 12    | 9    | 2    | 1 | 0 | 3 | 16     | 7     | 2     |\n",
        "        | relu    | -     | -    | -    | - | - | - | -      | -     | -     |\n",
        "        | bn      | -     | -    | -    | - | - | - | -      | -     | -     |\n",
        "        | gap     | -     | -    | -    | - | - | - | -      | -     | -     |\n",
        "        | drop    | -     | -    | -    | - | - | - | -      | -     | -     |\n",
        "        | fc      | -     | -    | -    | - | - | - | -      | -     | -     |\n",
        "        ----------------------------------------------------------------------\n",
        "\n",
        "        Final RF = 16\n",
        "        \"\"\"\n",
        "        x = self.conv1(x)  # 28x28x1 => 24x24x32\n",
        "        x = F.relu(x)\n",
        "        x = self.batch_norm1(x)\n",
        "\n",
        "        x = self.conv2(x)  # 24x24x32 => 22x22x16\n",
        "        x = F.relu(x)\n",
        "        x = self.batch_norm2(x)\n",
        "        x = F.max_pool2d(x, kernel_size=2, stride=2)  # 22x22x16 => 11x11x16\n",
        "        x = self.drop1(x)\n",
        "\n",
        "        x = self.conv3(x)  # 11x11x16 => 9x9x16\n",
        "        x = F.relu(x)\n",
        "        x = self.batch_norm3(x)\n",
        "\n",
        "        x = self.conv4(x)  # 9x9x16 => 7x7x64\n",
        "        x = F.relu(x)\n",
        "        x = self.batch_norm4(x)\n",
        "\n",
        "        x = self.gap(x)\n",
        "        x = self.drop2(x)\n",
        "\n",
        "        x = x.reshape(-1, 64 * 1 * 1)\n",
        "\n",
        "        x = self.fc(x)  # 64*1*1 => 10\n",
        "\n",
        "        return F.log_softmax(x, dim=1)"
      ]
    },
    {
      "cell_type": "code",
      "execution_count": 10,
      "metadata": {
        "colab": {
          "base_uri": "https://localhost:8080/"
        },
        "id": "OXBNlZvQZrlF",
        "outputId": "99ea9a54-162b-47e7-99ca-ec0c0e1b88d8"
      },
      "outputs": [
        {
          "data": {
            "text/plain": [
              "==========================================================================================\n",
              "Layer (type:depth-idx)                   Output Shape              Param #\n",
              "==========================================================================================\n",
              "Net                                      [1, 10]                   --\n",
              "├─Conv2d: 1-1                            [1, 32, 24, 24]           832\n",
              "├─BatchNorm2d: 1-2                       [1, 32, 24, 24]           64\n",
              "├─Conv2d: 1-3                            [1, 16, 22, 22]           4,624\n",
              "├─BatchNorm2d: 1-4                       [1, 16, 22, 22]           32\n",
              "├─Dropout: 1-5                           [1, 16, 11, 11]           --\n",
              "├─Conv2d: 1-6                            [1, 16, 9, 9]             2,320\n",
              "├─BatchNorm2d: 1-7                       [1, 16, 9, 9]             32\n",
              "├─Conv2d: 1-8                            [1, 64, 7, 7]             9,280\n",
              "├─BatchNorm2d: 1-9                       [1, 64, 7, 7]             128\n",
              "├─AdaptiveAvgPool2d: 1-10                [1, 64, 1, 1]             --\n",
              "├─Dropout: 1-11                          [1, 64, 1, 1]             --\n",
              "├─Linear: 1-12                           [1, 10]                   650\n",
              "==========================================================================================\n",
              "Total params: 17,962\n",
              "Trainable params: 17,962\n",
              "Non-trainable params: 0\n",
              "Total mult-adds (M): 3.36\n",
              "==========================================================================================\n",
              "Input size (MB): 0.00\n",
              "Forward/backward pass size (MB): 0.49\n",
              "Params size (MB): 0.07\n",
              "Estimated Total Size (MB): 0.56\n",
              "=========================================================================================="
            ]
          },
          "execution_count": 10,
          "metadata": {},
          "output_type": "execute_result"
        }
      ],
      "source": [
        "model = Net().to(device)\n",
        "summary(model, input_size=(1, 1, 28, 28))"
      ]
    },
    {
      "cell_type": "code",
      "execution_count": 11,
      "metadata": {
        "colab": {
          "base_uri": "https://localhost:8080/"
        },
        "id": "OAChr3QEZs2M",
        "outputId": "eb9a72c9-4318-4e43-d0f3-a25a2a62c910"
      },
      "outputs": [
        {
          "name": "stderr",
          "output_type": "stream",
          "text": [
            "Epoch=1 loss=0.7818135023117065 batch_id=78: 100%|██████████| 79/79 [00:07<00:00, 11.00it/s]\n"
          ]
        },
        {
          "name": "stdout",
          "output_type": "stream",
          "text": [
            "\n",
            "Test set: Average loss: 0.6988, Accuracy: 8614/10000 (86.14%)\n",
            "\n"
          ]
        },
        {
          "name": "stderr",
          "output_type": "stream",
          "text": [
            "Epoch=2 loss=0.6411963105201721 batch_id=78: 100%|██████████| 79/79 [00:03<00:00, 21.46it/s]\n"
          ]
        },
        {
          "name": "stdout",
          "output_type": "stream",
          "text": [
            "\n",
            "Test set: Average loss: 0.2598, Accuracy: 9579/10000 (95.79%)\n",
            "\n"
          ]
        },
        {
          "name": "stderr",
          "output_type": "stream",
          "text": [
            "Epoch=3 loss=0.25512993335723877 batch_id=78: 100%|██████████| 79/79 [00:03<00:00, 21.49it/s]\n"
          ]
        },
        {
          "name": "stdout",
          "output_type": "stream",
          "text": [
            "\n",
            "Test set: Average loss: 0.1505, Accuracy: 9665/10000 (96.65%)\n",
            "\n"
          ]
        },
        {
          "name": "stderr",
          "output_type": "stream",
          "text": [
            "Epoch=4 loss=0.17269328236579895 batch_id=78: 100%|██████████| 79/79 [00:04<00:00, 18.87it/s]\n"
          ]
        },
        {
          "name": "stdout",
          "output_type": "stream",
          "text": [
            "\n",
            "Test set: Average loss: 0.1035, Accuracy: 9788/10000 (97.88%)\n",
            "\n"
          ]
        },
        {
          "name": "stderr",
          "output_type": "stream",
          "text": [
            "Epoch=5 loss=0.35884496569633484 batch_id=78: 100%|██████████| 79/79 [00:03<00:00, 21.57it/s]\n"
          ]
        },
        {
          "name": "stdout",
          "output_type": "stream",
          "text": [
            "\n",
            "Test set: Average loss: 0.0991, Accuracy: 9767/10000 (97.67%)\n",
            "\n"
          ]
        },
        {
          "name": "stderr",
          "output_type": "stream",
          "text": [
            "Epoch=6 loss=0.13317173719406128 batch_id=78: 100%|██████████| 79/79 [00:04<00:00, 17.22it/s]\n"
          ]
        },
        {
          "name": "stdout",
          "output_type": "stream",
          "text": [
            "\n",
            "Test set: Average loss: 0.0647, Accuracy: 9865/10000 (98.65%)\n",
            "\n"
          ]
        },
        {
          "name": "stderr",
          "output_type": "stream",
          "text": [
            "Epoch=7 loss=0.2865554094314575 batch_id=78: 100%|██████████| 79/79 [00:03<00:00, 21.36it/s]\n"
          ]
        },
        {
          "name": "stdout",
          "output_type": "stream",
          "text": [
            "\n",
            "Test set: Average loss: 0.0584, Accuracy: 9878/10000 (98.78%)\n",
            "\n"
          ]
        },
        {
          "name": "stderr",
          "output_type": "stream",
          "text": [
            "Epoch=8 loss=0.12529927492141724 batch_id=78: 100%|██████████| 79/79 [00:04<00:00, 17.84it/s]\n"
          ]
        },
        {
          "name": "stdout",
          "output_type": "stream",
          "text": [
            "\n",
            "Test set: Average loss: 0.0610, Accuracy: 9859/10000 (98.59%)\n",
            "\n"
          ]
        },
        {
          "name": "stderr",
          "output_type": "stream",
          "text": [
            "Epoch=9 loss=0.11400628834962845 batch_id=78: 100%|██████████| 79/79 [00:03<00:00, 21.73it/s]\n"
          ]
        },
        {
          "name": "stdout",
          "output_type": "stream",
          "text": [
            "\n",
            "Test set: Average loss: 0.0478, Accuracy: 9894/10000 (98.94%)\n",
            "\n"
          ]
        },
        {
          "name": "stderr",
          "output_type": "stream",
          "text": [
            "Epoch=10 loss=0.17284023761749268 batch_id=78: 100%|██████████| 79/79 [00:03<00:00, 20.40it/s]\n"
          ]
        },
        {
          "name": "stdout",
          "output_type": "stream",
          "text": [
            "\n",
            "Test set: Average loss: 0.0393, Accuracy: 9919/10000 (99.19%)\n",
            "\n"
          ]
        },
        {
          "name": "stderr",
          "output_type": "stream",
          "text": [
            "Epoch=11 loss=0.03258098289370537 batch_id=78: 100%|██████████| 79/79 [00:03<00:00, 21.53it/s]\n"
          ]
        },
        {
          "name": "stdout",
          "output_type": "stream",
          "text": [
            "\n",
            "Test set: Average loss: 0.0341, Accuracy: 9938/10000 (99.38%)\n",
            "\n"
          ]
        },
        {
          "name": "stderr",
          "output_type": "stream",
          "text": [
            "Epoch=12 loss=0.033750422298908234 batch_id=78: 100%|██████████| 79/79 [00:03<00:00, 21.41it/s]\n"
          ]
        },
        {
          "name": "stdout",
          "output_type": "stream",
          "text": [
            "\n",
            "Test set: Average loss: 0.0297, Accuracy: 9951/10000 (99.51%)\n",
            "\n"
          ]
        },
        {
          "name": "stderr",
          "output_type": "stream",
          "text": [
            "Epoch=13 loss=0.08527274429798126 batch_id=78: 100%|██████████| 79/79 [00:04<00:00, 18.57it/s]\n"
          ]
        },
        {
          "name": "stdout",
          "output_type": "stream",
          "text": [
            "\n",
            "Test set: Average loss: 0.0286, Accuracy: 9949/10000 (99.49%)\n",
            "\n"
          ]
        },
        {
          "name": "stderr",
          "output_type": "stream",
          "text": [
            "Epoch=14 loss=0.06614154577255249 batch_id=78: 100%|██████████| 79/79 [00:03<00:00, 21.80it/s]\n"
          ]
        },
        {
          "name": "stdout",
          "output_type": "stream",
          "text": [
            "\n",
            "Test set: Average loss: 0.0293, Accuracy: 9944/10000 (99.44%)\n",
            "\n"
          ]
        },
        {
          "name": "stderr",
          "output_type": "stream",
          "text": [
            "Epoch=15 loss=0.33717823028564453 batch_id=78: 100%|██████████| 79/79 [00:05<00:00, 15.55it/s]\n"
          ]
        },
        {
          "name": "stdout",
          "output_type": "stream",
          "text": [
            "\n",
            "Test set: Average loss: 0.0591, Accuracy: 9824/10000 (98.24%)\n",
            "\n"
          ]
        },
        {
          "name": "stderr",
          "output_type": "stream",
          "text": [
            "Epoch=16 loss=0.02594837173819542 batch_id=78: 100%|██████████| 79/79 [00:03<00:00, 21.69it/s]\n"
          ]
        },
        {
          "name": "stdout",
          "output_type": "stream",
          "text": [
            "\n",
            "Test set: Average loss: 0.0243, Accuracy: 9959/10000 (99.59%)\n",
            "\n"
          ]
        },
        {
          "name": "stderr",
          "output_type": "stream",
          "text": [
            "Epoch=17 loss=0.039352141320705414 batch_id=78: 100%|██████████| 79/79 [00:04<00:00, 19.13it/s]\n"
          ]
        },
        {
          "name": "stdout",
          "output_type": "stream",
          "text": [
            "\n",
            "Test set: Average loss: 0.0209, Accuracy: 9963/10000 (99.63%)\n",
            "\n"
          ]
        },
        {
          "name": "stderr",
          "output_type": "stream",
          "text": [
            "Epoch=18 loss=0.01776367798447609 batch_id=78: 100%|██████████| 79/79 [00:03<00:00, 21.52it/s]\n"
          ]
        },
        {
          "name": "stdout",
          "output_type": "stream",
          "text": [
            "\n",
            "Test set: Average loss: 0.0258, Accuracy: 9950/10000 (99.50%)\n",
            "\n"
          ]
        },
        {
          "name": "stderr",
          "output_type": "stream",
          "text": [
            "Epoch=19 loss=0.028158485889434814 batch_id=78: 100%|██████████| 79/79 [00:03<00:00, 21.98it/s]\n"
          ]
        },
        {
          "name": "stdout",
          "output_type": "stream",
          "text": [
            "\n",
            "Test set: Average loss: 0.0172, Accuracy: 9979/10000 (99.79%)\n",
            "\n"
          ]
        }
      ],
      "source": [
        "model = Net().to(device)\n",
        "optimizer = optim.SGD(model.parameters(), lr=0.01, momentum=0.9)\n",
        "\n",
        "for epoch in range(1, 20):\n",
        "    train(model, device, train_loader, optimizer, epoch)\n",
        "    test(model, device, test_loader)"
      ]
    }
  ],
  "metadata": {
    "accelerator": "GPU",
    "colab": {
      "gpuType": "T4",
      "provenance": []
    },
    "kernelspec": {
      "display_name": "Python 3",
      "name": "python3"
    },
    "language_info": {
      "name": "python"
    }
  },
  "nbformat": 4,
  "nbformat_minor": 0
}
